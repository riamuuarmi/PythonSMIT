{
 "cells": [
  {
   "cell_type": "code",
   "execution_count": 9,
   "metadata": {
    "collapsed": true
   },
   "outputs": [
    {
     "data": {
      "text/plain": [
       "'\\nName : Umair Ahmed \\nemail : shumailkhan44@gmail.com\\nrollnumber : PY04868\\n\\nTeacher Name : Sir Muhammad Ali Mughal\\nInstitute Name : Saylani Head Office\\n\\nAssignment # 1\\n'"
      ]
     },
     "execution_count": 9,
     "metadata": {},
     "output_type": "execute_result"
    }
   ],
   "source": [
    "\"\"\"\n",
    "Name : Umair Ahmed \n",
    "email : shumailkhan44@gmail.com\n",
    "rollnumber : PY04868\n",
    "\n",
    "Teacher Name : Sir Muhammad Ali Mughal\n",
    "Institute Name : Saylani Head Office\n",
    "\n",
    "Assignment # 1\n",
    "\"\"\"\n"
   ]
  },
  {
   "cell_type": "code",
   "execution_count": 2,
   "metadata": {},
   "outputs": [
    {
     "name": "stdout",
     "output_type": "stream",
     "text": [
      "Twinkle, Twinkle, little star,\n",
      "\tHow I wonder what you are!\n",
      "\t\tUp above the world so high,\n",
      "\t\tLike a diamond in the sky,\n",
      "Twinkle, Twinkle, little star,\n",
      "\tHow I wonder what you are\n"
     ]
    }
   ],
   "source": [
    "# Q NO 1    (Twinkle, Twinkle, little star)\n",
    "\n",
    "print (\"Twinkle, Twinkle, little star,\" '\\n' + \"\\t\" + \"How I wonder what you are!\" + '\\n' + \"\\t\" + \"\\t\" + \"Up above the world so high,\" + \"\\n\" + \"\\t\" + \"\\t\" + \"Like a diamond in the sky,\")\n",
    "print (\"Twinkle, Twinkle, little star,\" '\\n' + \"\\t\" + \"How I wonder what you are\")\n"
   ]
  },
  {
   "cell_type": "code",
   "execution_count": 3,
   "metadata": {},
   "outputs": [
    {
     "name": "stdout",
     "output_type": "stream",
     "text": [
      "3.7.4 (default, Aug  9 2019, 18:22:51) [MSC v.1915 32 bit (Intel)]\n"
     ]
    }
   ],
   "source": [
    "# Q NO 2:  (Get Python version)\n",
    "# first we import platform library with the help of import command\n",
    "# after that we use the function of \"sys\" and \"version\" to check version\n",
    "\n",
    "import platform;\n",
    "\n",
    "print(platform.sys.version)"
   ]
  },
  {
   "cell_type": "code",
   "execution_count": 4,
   "metadata": {},
   "outputs": [
    {
     "name": "stdout",
     "output_type": "stream",
     "text": [
      "Current  Date and Time is : 2019-11-06 08:35:33.483227\n"
     ]
    }
   ],
   "source": [
    "# Q NO 3:   (Display Current Date and Time)\n",
    "# first we import datetime from datetime librray \n",
    "# decleare veriable named \"currentdatetime\" and call function of datetime.today() method\n",
    "\n",
    "from datetime import datetime\n",
    "currentdatetime = datetime.today()\n",
    "print(\"Current  Date and Time is :\", currentdatetime)"
   ]
  },
  {
   "cell_type": "code",
   "execution_count": 5,
   "metadata": {},
   "outputs": [
    {
     "name": "stdout",
     "output_type": "stream",
     "text": [
      "Please Enter value of Radius = 5\n",
      "your calculated Area is =  78.55\n"
     ]
    }
   ],
   "source": [
    "# Q NO 4: Calculate the area by entering the Radious value\n",
    "# first we take input from user about radius\n",
    "\n",
    "radius = float(input(\"Please Enter value of Radius = \"))\n",
    "# to calculate area we take squre of radious and thn multiply with vaule of pi 3.142\n",
    "area = 3.142*radius**2\n",
    "print (\"your calculated Area is = \" , area)"
   ]
  },
  {
   "cell_type": "code",
   "execution_count": 6,
   "metadata": {},
   "outputs": [
    {
     "name": "stdout",
     "output_type": "stream",
     "text": [
      "YOUR FIRST NAME : umair\n",
      "YOUR LAST NAME : ahmed\n",
      "ahmed umair\n"
     ]
    }
   ],
   "source": [
    "# Q  NO 5: (First Name and Last Name output will be in Reverse order)\n",
    "# take to input from user \"firstName\" and \"LastName\"\n",
    "\n",
    "firstName = input(\"YOUR FIRST NAME : \")\n",
    "lastName = input(\"YOUR LAST NAME : \")\n",
    "\n",
    "# to get output in reverse order we call \"lastName\" first and thn \"firstName\" at last\n",
    "\n",
    "print (lastName  , firstName )"
   ]
  },
  {
   "cell_type": "code",
   "execution_count": 8,
   "metadata": {},
   "outputs": [
    {
     "name": "stdout",
     "output_type": "stream",
     "text": [
      "first number : 5\n",
      "second number : 5\n",
      "10\n"
     ]
    }
   ],
   "source": [
    "# Q NO 6 : (Addition of Two Numbers)\n",
    "# take to input from user \"FirstNubmer\" and \"secondNumber\"\n",
    "\n",
    "firstNumber = int(input(\"first number : \"))   # int is use to convert string into intiger\n",
    "secondNumber = int(input(\"second number : \"))\n",
    "\n",
    "# Declare veriable \"sum\" and submit value of given \"firstNumber\" and \"secondNumber\" \n",
    "\n",
    "sum = firstNumber + secondNumber\n",
    "print(sum)"
   ]
  },
  {
   "cell_type": "code",
   "execution_count": null,
   "metadata": {},
   "outputs": [],
   "source": []
  }
 ],
 "metadata": {
  "kernelspec": {
   "display_name": "Python 3",
   "language": "python",
   "name": "python3"
  },
  "language_info": {
   "codemirror_mode": {
    "name": "ipython",
    "version": 3
   },
   "file_extension": ".py",
   "mimetype": "text/x-python",
   "name": "python",
   "nbconvert_exporter": "python",
   "pygments_lexer": "ipython3",
   "version": "3.7.4"
  }
 },
 "nbformat": 4,
 "nbformat_minor": 2
}
