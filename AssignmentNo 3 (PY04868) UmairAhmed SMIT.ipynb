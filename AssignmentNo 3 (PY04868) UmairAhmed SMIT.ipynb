{
 "cells": [
  {
   "cell_type": "code",
   "execution_count": null,
   "metadata": {},
   "outputs": [],
   "source": [
    "\"\"\"\n",
    "Name : Umair Ahmed \n",
    "email : shumailkhan44@gmail.com\n",
    "rollnumber : PY04868\n",
    "\n",
    "Teacher Name : Sir Muhammad Ali Mughal\n",
    "Institute Name : Saylani Head Office\n",
    "\n",
    "Assignment # 2\n",
    "\"\"\""
   ]
  },
  {
   "cell_type": "code",
   "execution_count": 4,
   "metadata": {},
   "outputs": [
    {
     "name": "stdout",
     "output_type": "stream",
     "text": [
      "Enter First Numaric value : 34\n",
      "Enter Second Numaric Value : 54\n",
      "press any calculation operator '+' '-' '*' '/'*\n",
      "Result is :  1836\n"
     ]
    }
   ],
   "source": [
    "# Q No 1: Calculator \n",
    "# First we take input of two value from user\n",
    "\n",
    "val1 = int(input(\"Enter First Numaric value : \"))\n",
    "val2 = int(input(\"Enter Second Numaric Value : \"))\n",
    "\n",
    "#  take desired operator from user \n",
    "\n",
    "operator = input(\"press any calculation operator '+' '-' '*' '/'\")\n",
    "\n",
    "# apply condition according to desired result\n",
    "\n",
    "if operator== \"+\":\n",
    "    total = val1 + val2\n",
    "elif operator == \"-\":\n",
    "    total = val1 - val2\n",
    "elif operator == \"*\":\n",
    "    total = val1 * val2\n",
    "elif operator == \"/\":\n",
    "    total = val1 / val2\n",
    "else:\n",
    "    print(\"Enter Correct Numaric Value\")\n",
    "\n",
    "print(\"Result is : \", total)"
   ]
  },
  {
   "cell_type": "code",
   "execution_count": 1,
   "metadata": {},
   "outputs": [
    {
     "name": "stdout",
     "output_type": "stream",
     "text": [
      "[1, 2, 3, 12]\n"
     ]
    }
   ],
   "source": [
    "# Q No 2: Numaric Value in list\n",
    "# Here we  assign values to list named \"list_1\"\n",
    "\n",
    "list_1 = [\"adad\", 1, 2, 3, \"akram\", 12]\n",
    "\n",
    "# Create another list named \"list_2\" using for loop\n",
    "\n",
    "list_2 = [i for i in list_1 if isinstance(i, (int, float))] \n",
    "print (list_2)"
   ]
  },
  {
   "cell_type": "code",
   "execution_count": 1,
   "metadata": {},
   "outputs": [
    {
     "name": "stdout",
     "output_type": "stream",
     "text": [
      "{0: 10, 1: 20, 2: 30}\n"
     ]
    }
   ],
   "source": [
    "# Q No 3: Add key to dictionary\n",
    "# First define dictionary and assign key and value\n",
    "\n",
    "dic = {0:10, 1:20}\n",
    "\n",
    "# define new function and pass value of dic, Key, Value\n",
    "\n",
    "\n",
    "def add_key(dic, key , value):\n",
    "    dic[key]=value\n",
    "    return dic\n",
    "\n",
    "print(add_key(dic,2,30))"
   ]
  },
  {
   "cell_type": "code",
   "execution_count": 5,
   "metadata": {},
   "outputs": [
    {
     "name": "stdout",
     "output_type": "stream",
     "text": [
      "50\n"
     ]
    }
   ],
   "source": [
    "# Q No 4 : Sum all Numaric value in dictionary\n",
    "# define dictionary key and value\n",
    "\n",
    "dic  = {\"Firt\":10,\"Second\":10,\"Third\":30}\n",
    "\n",
    "# create virable \"sum\" \n",
    "\n",
    "sum = 0\n",
    "\n",
    "# apply For loop \n",
    "# sum all numaric values in dic\n",
    "for key, values in dic.items():\n",
    "    sum += values\n",
    "print (sum)"
   ]
  },
  {
   "cell_type": "code",
   "execution_count": 6,
   "metadata": {},
   "outputs": [
    {
     "name": "stdout",
     "output_type": "stream",
     "text": [
      "[20, 30, 12, 13, 34, 45, 56, 70]\n"
     ]
    }
   ],
   "source": [
    "#Q No 5 : identify the Duplicate Value in the list\n",
    "# First define list \n",
    "# second create empty list\n",
    "# use for loop to iterate the value and put non duplicate value in seond list called \"uniq_list\"\n",
    "\n",
    "list = [20,20,30,12,13,12,34,45,56,45,70]\n",
    "uniq_list = []\n",
    "    \n",
    "for item in list:\n",
    "       if item not in uniq_list:\n",
    "            uniq_list.append( item)\n",
    "print(uniq_list)"
   ]
  },
  {
   "cell_type": "code",
   "execution_count": 7,
   "metadata": {},
   "outputs": [
    {
     "name": "stdout",
     "output_type": "stream",
     "text": [
      "Check given key in the list : 66\n",
      "yes your input key is availabele \n"
     ]
    }
   ],
   "source": [
    "# Q No 6 : check given key in the dictionary\n",
    "# First take input from user about key\n",
    "# list is already defined\n",
    "\n",
    "check = int(input(\"Check given key in the list : \"))\n",
    "\n",
    "list = {11: 10, 22: 20, 33: 30, 44: 40, 55: 50, 66: 60}\n",
    "\n",
    "if check in list:\n",
    "     print('yes your input key is availabele ')\n",
    "else:\n",
    "     print('No, your input key is Not availabele ')\n"
   ]
  },
  {
   "cell_type": "code",
   "execution_count": null,
   "metadata": {},
   "outputs": [],
   "source": []
  }
 ],
 "metadata": {
  "kernelspec": {
   "display_name": "Python 3",
   "language": "python",
   "name": "python3"
  },
  "language_info": {
   "codemirror_mode": {
    "name": "ipython",
    "version": 3
   },
   "file_extension": ".py",
   "mimetype": "text/x-python",
   "name": "python",
   "nbconvert_exporter": "python",
   "pygments_lexer": "ipython3",
   "version": "3.7.4"
  }
 },
 "nbformat": 4,
 "nbformat_minor": 2
}
