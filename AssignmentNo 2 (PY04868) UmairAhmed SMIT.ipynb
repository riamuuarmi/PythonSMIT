{
 "cells": [
  {
   "cell_type": "code",
   "execution_count": null,
   "metadata": {},
   "outputs": [],
   "source": [
    "\"\"\"\n",
    "Name : Umair Ahmed \n",
    "email : shumailkhan44@gmail.com\n",
    "rollnumber : PY04868\n",
    "\n",
    "Teacher Name : Sir Muhammad Ali Mughal\n",
    "Institute Name : Saylani Head Office\n",
    "\n",
    "Assignment # 2\n",
    "\"\"\"\n"
   ]
  },
  {
   "cell_type": "code",
   "execution_count": 17,
   "metadata": {},
   "outputs": [
    {
     "name": "stdout",
     "output_type": "stream",
     "text": [
      "SUBJECT               |            TOTAL MARKS          |         OBTAINED MARKS \n",
      "-------------------------------------------------------------------------------------------------\n",
      "Physics               |               100               |               45\n",
      "Chemistry             |               100               |               89\n",
      "English               |               100               |               87\n",
      "Urdu                  |               100               |               89\n",
      "Computer Science      |               50                |               78\n",
      "-----------------------------------------------------------------------------------------------\n",
      "  Total              |                550              |               388\n",
      "-----------------------------------------------------------------------------------------------\n",
      "                                                                                                              \n",
      "percentage :  70.54545454545455 %\n",
      "GRADE =  A\n"
     ]
    }
   ],
   "source": [
    "# Q No 1:  Get Five input and Generate MarkSheet\n",
    "# First Take Five Inputs\n",
    "print(\"SUBJECT               |            TOTAL MARKS          |         OBTAINED MARKS \")\n",
    "print(\"-------------------------------------------------------------------------------------------------\")\n",
    "\n",
    "phy = float(input(\"Physics               |               100               |               \"))\n",
    "chem = float(input(\"Chemistry             |               100               |               \"))\n",
    "eng = float(input(\"English               |               100               |               \"))\n",
    "urdu = float(input(\"Urdu                  |               100               |               \"))\n",
    "compsci = float(input(\"Computer Science      |               50                |               \"))\n",
    "\n",
    "\n",
    "total_marks = 550  # total marks\n",
    "obtain_marks = int(phy + chem + eng + urdu + compsci)\n",
    "\n",
    "percentage = obtain_marks / total_marks * 100  # use Percentage Formula\n",
    "\n",
    "# with the help of if elif statment set the grading \n",
    "\n",
    "if percentage > 80:\n",
    "  grade = \"A1\"\n",
    "elif percentage > 70 and percentage <= 80:\n",
    "  grade = \"A\"\n",
    "elif percentage > 60 and percentage <= 70:\n",
    "  grade = \"B\"\n",
    "elif percentage > 50 and percentage <= 60:\n",
    "  grade = \"C\"\n",
    "elif percentage > 40 and percentage <= 50:\n",
    "  grade = \"D\"\n",
    "elif percentage < 40:\n",
    "  grade = \"YOU ARE FAILED\" \n",
    "\n",
    "else:\n",
    "  print(\"Please try again. Enter correct Numbers of subjects\")  \n",
    "  \n",
    "   \n",
    "\n",
    "\n",
    "print(\"-----------------------------------------------------------------------------------------------\")\n",
    "print(\"  Total              |               \" , total_marks , \"             |              \" , obtain_marks)\n",
    "print(\"-----------------------------------------------------------------------------------------------\")\n",
    "print(\"                                                                                                              \")\n",
    "print(\"percentage : \" , percentage , \"%\")\n",
    "print(\"GRADE = \" , grade)"
   ]
  },
  {
   "cell_type": "code",
   "execution_count": 7,
   "metadata": {},
   "outputs": [
    {
     "name": "stdout",
     "output_type": "stream",
     "text": [
      "Enter Number: 4\n",
      "4 is Even\n"
     ]
    }
   ],
   "source": [
    "# Q No 2 : Odd or Even\n",
    "# First take Input From User\n",
    "\n",
    "odd_even = int(input(\"Enter Number: \"))\n",
    "\n",
    "if odd_even % 2 == 0:\n",
    "    print(odd_even , \"is Even Number\")\n",
    "else:\n",
    "    print(odd_even , \"is Odd Number\")"
   ]
  },
  {
   "cell_type": "code",
   "execution_count": 9,
   "metadata": {},
   "outputs": [
    {
     "name": "stdout",
     "output_type": "stream",
     "text": [
      "the lenght of the lenght of list is : 4\n"
     ]
    }
   ],
   "source": [
    "# Q No 3:  Lenght of list\n",
    "# to check lenght of list using function of len()\n",
    "\n",
    "len_of_list = [\"pakisan\" , \"is\", \"Beautiful\" , \"country\" ]\n",
    "print(\"the lenght of the lenght of list is :\" , len(len_of_list))"
   ]
  },
  {
   "cell_type": "code",
   "execution_count": 12,
   "metadata": {},
   "outputs": [
    {
     "name": "stdout",
     "output_type": "stream",
     "text": [
      "Sum of all elements in given list is:  240\n"
     ]
    }
   ],
   "source": [
    "# Q No 4 : Sum of all element in the list\n",
    "\n",
    "\n",
    "sum = 0\n",
    "\n",
    "list = [17 , 90 , 17 , 14 , 23, 24, 55]  \n",
    "\n",
    "# using for loop and range funtion \n",
    "\n",
    "for element in range(0, len(list)): \n",
    "    sum = sum + list[element] \n",
    "  \n",
    "print(\"Sum of all elements in given list is: \", sum)"
   ]
  },
  {
   "cell_type": "code",
   "execution_count": 14,
   "metadata": {},
   "outputs": [
    {
     "name": "stdout",
     "output_type": "stream",
     "text": [
      "Here is the Largest number in the list: 88\n"
     ]
    }
   ],
   "source": [
    "# Q No 5 : get Largest Number\n",
    "# create list \n",
    "\n",
    "list = [45, 12, 43, 56, 76, 56, 88]\n",
    "\n",
    "# Using sort method to sort the list\n",
    "\n",
    "list.sort() \n",
    "  \n",
    "print(\"Here is the Largest number in the list:\", list[-1])"
   ]
  },
  {
   "cell_type": "code",
   "execution_count": 16,
   "metadata": {},
   "outputs": [
    {
     "name": "stdout",
     "output_type": "stream",
     "text": [
      "[1, 1, 2, 3]\n"
     ]
    }
   ],
   "source": [
    "# Q No 6 : print out all element which is less than Five\n",
    "# first create list as mentioned\n",
    "\n",
    "list1 = [1, 1, 2, 3, 5, 8, 13, 21, 34, 55, 89]\n",
    "list2 = []\n",
    "\n",
    "# using for and nested loop\n",
    "\n",
    "for elem in list1:\n",
    "  if elem < 5:\n",
    "    list2.append(elem)\n",
    "\n",
    "print(list2)"
   ]
  },
  {
   "cell_type": "code",
   "execution_count": null,
   "metadata": {},
   "outputs": [],
   "source": []
  }
 ],
 "metadata": {
  "kernelspec": {
   "display_name": "Python 3",
   "language": "python",
   "name": "python3"
  },
  "language_info": {
   "codemirror_mode": {
    "name": "ipython",
    "version": 3
   },
   "file_extension": ".py",
   "mimetype": "text/x-python",
   "name": "python",
   "nbconvert_exporter": "python",
   "pygments_lexer": "ipython3",
   "version": "3.7.4"
  }
 },
 "nbformat": 4,
 "nbformat_minor": 2
}
